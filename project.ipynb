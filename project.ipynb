{
 "cells": [
  {
   "cell_type": "code",
   "execution_count": 31,
   "id": "norwegian-county",
   "metadata": {},
   "outputs": [],
   "source": [
    "import os\n",
    "import cv2\n",
    "import torch\n",
    "import torchvision\n",
    "import matplotlib\n",
    "import matplotlib.pyplot as plt\n",
    "from torchvision import datasets, transforms, models\n",
    "from torchvision.datasets import ImageFolder\n",
    "from torchvision import transforms as tt\n",
    "from torchvision.transforms import ToTensor, Normalize, Compose\n",
    "import torch.nn as nn\n",
    "import torch.nn.functional as F\n",
    "from torch.nn import BCELoss\n",
    "from torch.utils.data.dataloader import DataLoader\n",
    "from tqdm import tqdm"
   ]
  },
  {
   "cell_type": "code",
   "execution_count": 2,
   "id": "sunrise-density",
   "metadata": {},
   "outputs": [
    {
     "name": "stdout",
     "output_type": "stream",
     "text": [
      "['A', 'B', 'test']\n",
      "['busy', 'free']\n"
     ]
    }
   ],
   "source": [
    "data_dir = 'CNRPark-Patches-150x150'\n",
    "train_dir = data_dir + '/A'\n",
    "print(os.listdir(data_dir))\n",
    "classes = os.listdir(data_dir + '/A')\n",
    "print(classes)"
   ]
  },
  {
   "cell_type": "code",
   "execution_count": 3,
   "id": "whole-industry",
   "metadata": {},
   "outputs": [
    {
     "name": "stdout",
     "output_type": "stream",
     "text": [
      "torch.Size([3, 150, 150]) 0\n"
     ]
    }
   ],
   "source": [
    "dataset = ImageFolder(data_dir + '/A', transform=ToTensor())\n",
    "image, label = dataset[0]\n",
    "print(image.shape, label)"
   ]
  },
  {
   "cell_type": "code",
   "execution_count": 4,
   "id": "atomic-filename",
   "metadata": {},
   "outputs": [
    {
     "name": "stdout",
     "output_type": "stream",
     "text": [
      "['busy', 'free']\n"
     ]
    }
   ],
   "source": [
    "print(dataset.classes)"
   ]
  },
  {
   "cell_type": "code",
   "execution_count": 7,
   "id": "assured-concern",
   "metadata": {},
   "outputs": [],
   "source": [
    "train_ds = ImageFolder(data_dir + '/A', transform=ToTensor()) #train_fried\n",
    "val_ds = ImageFolder(data_dir + '/B', transform=ToTensor()) #val_fried"
   ]
  },
  {
   "cell_type": "code",
   "execution_count": 8,
   "id": "social-tolerance",
   "metadata": {},
   "outputs": [
    {
     "name": "stdout",
     "output_type": "stream",
     "text": [
      "Validation split: 0.10873440285204991, Training split: 0.8912655971479501\n"
     ]
    }
   ],
   "source": [
    "train_size = 5500\n",
    "val_size = len(dataset) - train_size\n",
    "\n",
    "len(train_ds), len(val_ds)\n",
    "print(f'Validation split: {val_size / len(dataset)}, Training split: {train_size / len(dataset)}') #show percentage split"
   ]
  },
  {
   "cell_type": "code",
   "execution_count": 9,
   "id": "dominican-atlas",
   "metadata": {},
   "outputs": [],
   "source": [
    "train_dl = DataLoader(train_ds, 128, shuffle=True, num_workers=1, pin_memory=True)\n",
    "val_dl = DataLoader(val_ds, 128, shuffle=True, num_workers=1, pin_memory=True)"
   ]
  },
  {
   "cell_type": "code",
   "execution_count": 10,
   "id": "lucky-reservation",
   "metadata": {},
   "outputs": [],
   "source": [
    "def accuracy(outputs, labels):\n",
    "    _, preds = torch.max(outputs, dim=1)\n",
    "    return torch.tensor(torch.sum(preds == labels).item() / len(preds))\n",
    "\n",
    "class ImageClassificationBase(nn.Module):\n",
    "    def training_step(self, batch):\n",
    "        images, labels = batch \n",
    "        images, labels = images.to(device), labels.to(device)\n",
    "        out = self(images)\n",
    "        loss = F.cross_entropy(out, labels)\n",
    "        acc = accuracy(out, labels)\n",
    "        return {'train_loss': loss, 'train_acc': acc}\n",
    "    \n",
    "    def validation_step(self, batch):\n",
    "        images, labels = batch\n",
    "        images, labels = images.to(device), labels.to(device)\n",
    "        out = self(images)\n",
    "        loss = F.cross_entropy(out, labels)\n",
    "        acc = accuracy(out, labels)\n",
    "        return {'val_loss': loss.detach(), 'val_acc': acc}\n",
    "        \n",
    "    def validation_epoch_end(self, outputs):\n",
    "        batch_losses = [x['val_loss'] for x in outputs]\n",
    "        epoch_loss = torch.stack(batch_losses).mean()\n",
    "        batch_accs = [x['val_acc'] for x in outputs]\n",
    "        epoch_acc = torch.stack(batch_accs).mean()\n",
    "        return {'val_loss': epoch_loss.item(), 'val_acc': epoch_acc.item()}\n",
    "\n",
    "    def epoch_end(self, epoch, result):\n",
    "        print(\"Epoch [{}], train_loss: {:.4f}, val_loss: {:.4f}, train_acc: {:.4f}, val_acc: {:.4f}\".format(\n",
    "            epoch, result['train_loss'], result['val_loss'], result['train_acc'], result['val_acc']))"
   ]
  },
  {
   "cell_type": "code",
   "execution_count": 18,
   "id": "guilty-antigua",
   "metadata": {},
   "outputs": [],
   "source": [
    "class ParkincCnnModel(ImageClassificationBase):\n",
    "    def __init__(self):\n",
    "        super().__init__()\n",
    "        self.network = nn.Sequential(\n",
    "            nn.Conv2d(3, 32, kernel_size=3, padding=1),\n",
    "            nn.ReLU(),\n",
    "            nn.Dropout(p=0.8),\n",
    "            nn.Conv2d(32, 64, kernel_size=3, stride=2, padding=1),\n",
    "            nn.ReLU(),\n",
    "            nn.Dropout(p=0.5),\n",
    "            nn.MaxPool2d(2, 2), # output: 64 x 16 x 16\n",
    "\n",
    "            nn.Conv2d(64, 128, kernel_size=3, stride=1, padding=1),\n",
    "            nn.ReLU(),\n",
    "            nn.Dropout(p=0.2),\n",
    "            nn.Conv2d(128, 128, kernel_size=3, stride=2, padding=1),\n",
    "            nn.ReLU(),\n",
    "            nn.Dropout(p=0.4),\n",
    "            nn.MaxPool2d(2, 2), # output: 128 x 8 x 8\n",
    "            \n",
    "            nn.Conv2d(128, 256, kernel_size=3, stride=1, padding=1),\n",
    "            nn.ReLU(),\n",
    "            nn.Conv2d(256, 128, kernel_size=3, stride=2, padding=1),\n",
    "            nn.ReLU(),\n",
    "            nn.MaxPool2d(2, 2), # output: 256 x 4 x 4\n",
    "\n",
    "            nn.Flatten(), \n",
    "            nn.Linear(512, 1024),\n",
    "            nn.ReLU(),\n",
    "            nn.Dropout(p=0.4), \n",
    "            nn.Linear(1024, 512),\n",
    "            nn.ReLU(),\n",
    "            nn.Linear(512, 2)\n",
    "        )\n",
    "        \n",
    "    def forward(self, input_batch):\n",
    "        return self.network(input_batch)"
   ]
  },
  {
   "cell_type": "code",
   "execution_count": 19,
   "id": "sought-eclipse",
   "metadata": {},
   "outputs": [],
   "source": [
    "device = torch.device('cuda' if torch.cuda.is_available() else 'cpu')"
   ]
  },
  {
   "cell_type": "code",
   "execution_count": 20,
   "id": "external-gallery",
   "metadata": {},
   "outputs": [],
   "source": [
    "@torch.no_grad()\n",
    "def evaluate(model, val_loader):\n",
    "    model.eval()\n",
    "    outputs = [model.validation_step(batch) for batch in tqdm(val_loader)]\n",
    "    return model.validation_epoch_end(outputs)"
   ]
  },
  {
   "cell_type": "code",
   "execution_count": 21,
   "id": "demographic-receiver",
   "metadata": {},
   "outputs": [],
   "source": [
    "def fit(epochs, lr, model, train_loader, val_loader, opt_func=torch.optim.Adam):\n",
    "    history = []\n",
    "    optimizer = opt_func(model.parameters(), lr)\n",
    "    for epoch in range(epochs):\n",
    "        model.train()\n",
    "        train_losses = []\n",
    "        train_acc = []\n",
    "        for batch in train_loader:\n",
    "            info = model.training_step(batch)\n",
    "            train_losses.append(info['train_loss'])\n",
    "            train_acc.append(info['train_acc'])\n",
    "            info['train_loss'].backward()\n",
    "            optimizer.step()\n",
    "            optimizer.zero_grad()\n",
    "        result = evaluate(model, val_loader)\n",
    "        result['train_loss'] = torch.stack(train_losses).mean().item()\n",
    "        result['train_acc'] = torch.stack(train_acc).mean().item()\n",
    "        model.epoch_end(epoch, result)\n",
    "        history.append(result)\n",
    "    return history"
   ]
  },
  {
   "cell_type": "code",
   "execution_count": 22,
   "id": "subtle-watson",
   "metadata": {
    "scrolled": true
   },
   "outputs": [
    {
     "data": {
      "text/plain": [
       "ParkincCnnModel(\n",
       "  (network): Sequential(\n",
       "    (0): Conv2d(3, 32, kernel_size=(3, 3), stride=(1, 1), padding=(1, 1))\n",
       "    (1): ReLU()\n",
       "    (2): Dropout(p=0.8, inplace=False)\n",
       "    (3): Conv2d(32, 64, kernel_size=(3, 3), stride=(2, 2), padding=(1, 1))\n",
       "    (4): ReLU()\n",
       "    (5): Dropout(p=0.5, inplace=False)\n",
       "    (6): MaxPool2d(kernel_size=2, stride=2, padding=0, dilation=1, ceil_mode=False)\n",
       "    (7): Conv2d(64, 128, kernel_size=(3, 3), stride=(1, 1), padding=(1, 1))\n",
       "    (8): ReLU()\n",
       "    (9): Dropout(p=0.2, inplace=False)\n",
       "    (10): Conv2d(128, 128, kernel_size=(3, 3), stride=(2, 2), padding=(1, 1))\n",
       "    (11): ReLU()\n",
       "    (12): Dropout(p=0.4, inplace=False)\n",
       "    (13): MaxPool2d(kernel_size=2, stride=2, padding=0, dilation=1, ceil_mode=False)\n",
       "    (14): Conv2d(128, 256, kernel_size=(3, 3), stride=(1, 1), padding=(1, 1))\n",
       "    (15): ReLU()\n",
       "    (16): Conv2d(256, 128, kernel_size=(3, 3), stride=(2, 2), padding=(1, 1))\n",
       "    (17): ReLU()\n",
       "    (18): MaxPool2d(kernel_size=2, stride=2, padding=0, dilation=1, ceil_mode=False)\n",
       "    (19): Flatten(start_dim=1, end_dim=-1)\n",
       "    (20): Linear(in_features=512, out_features=1024, bias=True)\n",
       "    (21): ReLU()\n",
       "    (22): Dropout(p=0.4, inplace=False)\n",
       "    (23): Linear(in_features=1024, out_features=512, bias=True)\n",
       "    (24): ReLU()\n",
       "    (25): Linear(in_features=512, out_features=2, bias=True)\n",
       "  )\n",
       ")"
      ]
     },
     "execution_count": 22,
     "metadata": {},
     "output_type": "execute_result"
    }
   ],
   "source": [
    "model = ParkincCnnModel()\n",
    "model.to(device)"
   ]
  },
  {
   "cell_type": "code",
   "execution_count": 23,
   "id": "broke-marble",
   "metadata": {},
   "outputs": [
    {
     "name": "stderr",
     "output_type": "stream",
     "text": [
      "100%|██████████████████████████████████████████████████████████████████████████████████| 51/51 [00:11<00:00,  4.48it/s]\n"
     ]
    },
    {
     "name": "stdout",
     "output_type": "stream",
     "text": [
      "Epoch [0], train_loss: 0.6887, val_loss: 0.6803, train_acc: 0.5866, val_acc: 0.7473\n"
     ]
    },
    {
     "name": "stderr",
     "output_type": "stream",
     "text": [
      "100%|██████████████████████████████████████████████████████████████████████████████████| 51/51 [00:11<00:00,  4.50it/s]\n"
     ]
    },
    {
     "name": "stdout",
     "output_type": "stream",
     "text": [
      "Epoch [1], train_loss: 0.6828, val_loss: 0.6720, train_acc: 0.5851, val_acc: 0.7446\n"
     ]
    },
    {
     "name": "stderr",
     "output_type": "stream",
     "text": [
      "100%|██████████████████████████████████████████████████████████████████████████████████| 51/51 [00:11<00:00,  4.48it/s]\n"
     ]
    },
    {
     "name": "stdout",
     "output_type": "stream",
     "text": [
      "Epoch [2], train_loss: 0.6766, val_loss: 0.6649, train_acc: 0.5869, val_acc: 0.7459\n"
     ]
    },
    {
     "name": "stderr",
     "output_type": "stream",
     "text": [
      "100%|██████████████████████████████████████████████████████████████████████████████████| 51/51 [00:11<00:00,  4.51it/s]\n"
     ]
    },
    {
     "name": "stdout",
     "output_type": "stream",
     "text": [
      "Epoch [3], train_loss: 0.6417, val_loss: 0.6466, train_acc: 0.6005, val_acc: 0.7459\n"
     ]
    },
    {
     "name": "stderr",
     "output_type": "stream",
     "text": [
      "100%|██████████████████████████████████████████████████████████████████████████████████| 51/51 [00:11<00:00,  4.48it/s]\n"
     ]
    },
    {
     "name": "stdout",
     "output_type": "stream",
     "text": [
      "Epoch [4], train_loss: 0.4360, val_loss: 0.5569, train_acc: 0.8506, val_acc: 0.8171\n"
     ]
    },
    {
     "name": "stderr",
     "output_type": "stream",
     "text": [
      "100%|██████████████████████████████████████████████████████████████████████████████████| 51/51 [00:11<00:00,  4.48it/s]\n"
     ]
    },
    {
     "name": "stdout",
     "output_type": "stream",
     "text": [
      "Epoch [5], train_loss: 0.2609, val_loss: 0.5135, train_acc: 0.8977, val_acc: 0.8549\n"
     ]
    },
    {
     "name": "stderr",
     "output_type": "stream",
     "text": [
      "100%|██████████████████████████████████████████████████████████████████████████████████| 51/51 [00:11<00:00,  4.48it/s]\n"
     ]
    },
    {
     "name": "stdout",
     "output_type": "stream",
     "text": [
      "Epoch [6], train_loss: 0.2114, val_loss: 0.4656, train_acc: 0.9174, val_acc: 0.8499\n"
     ]
    },
    {
     "name": "stderr",
     "output_type": "stream",
     "text": [
      "100%|██████████████████████████████████████████████████████████████████████████████████| 51/51 [00:11<00:00,  4.49it/s]\n"
     ]
    },
    {
     "name": "stdout",
     "output_type": "stream",
     "text": [
      "Epoch [7], train_loss: 0.1928, val_loss: 0.4711, train_acc: 0.9300, val_acc: 0.8559\n"
     ]
    },
    {
     "name": "stderr",
     "output_type": "stream",
     "text": [
      "100%|██████████████████████████████████████████████████████████████████████████████████| 51/51 [00:11<00:00,  4.48it/s]\n"
     ]
    },
    {
     "name": "stdout",
     "output_type": "stream",
     "text": [
      "Epoch [8], train_loss: 0.1783, val_loss: 0.4904, train_acc: 0.9321, val_acc: 0.8397\n"
     ]
    },
    {
     "name": "stderr",
     "output_type": "stream",
     "text": [
      "100%|██████████████████████████████████████████████████████████████████████████████████| 51/51 [00:11<00:00,  4.50it/s]"
     ]
    },
    {
     "name": "stdout",
     "output_type": "stream",
     "text": [
      "Epoch [9], train_loss: 0.1590, val_loss: 0.4495, train_acc: 0.9408, val_acc: 0.8554\n"
     ]
    },
    {
     "name": "stderr",
     "output_type": "stream",
     "text": [
      "\n"
     ]
    }
   ],
   "source": [
    "epochs = 10\n",
    "lr = 1e-5\n",
    "opt_func = torch.optim.Adam\n",
    "\n",
    "history = fit(epochs, lr, model, train_dl, val_dl, opt_func)"
   ]
  },
  {
   "cell_type": "code",
   "execution_count": 25,
   "id": "dynamic-legend",
   "metadata": {},
   "outputs": [],
   "source": [
    "def plot_accuracies(history):\n",
    "    accuracies = [x['val_acc'] for x in history]\n",
    "    plt.plot(accuracies, '-x')\n",
    "    plt.xlabel('epoch')\n",
    "    plt.ylabel('accuracy')\n",
    "    plt.title('Accuracy vs. No. of epochs')\n",
    "    \n",
    "def plot_losses(history):\n",
    "    train_losses = [x.get('train_loss') for x in history]\n",
    "    val_losses = [x['val_loss'] for x in history]\n",
    "    plt.plot(train_losses, '-bx')\n",
    "    plt.plot(val_losses, '-rx')\n",
    "    plt.xlabel('epoch')\n",
    "    plt.ylabel('loss')\n",
    "    plt.legend(['Training', 'Validation'])\n",
    "    plt.title('Loss vs. No. of epochs');"
   ]
  },
  {
   "cell_type": "code",
   "execution_count": 26,
   "id": "baking-revolution",
   "metadata": {},
   "outputs": [
    {
     "data": {
      "image/png": "[encoded data removed]",
      "text/plain": [
       "<Figure size 432x288 with 1 Axes>"
      ]
     },
     "metadata": {
      "needs_background": "light"
     },
     "output_type": "display_data"
    }
   ],
   "source": [
    "plot_losses(history)"
   ]
  },
  {
   "cell_type": "code",
   "execution_count": 27,
   "id": "swiss-greek",
   "metadata": {},
   "outputs": [
    {
     "data": {
      "image/png": "[encoded data removed]",
      "text/plain": [
       "<Figure size 432x288 with 1 Axes>"
      ]
     },
     "metadata": {
      "needs_background": "light"
     },
     "output_type": "display_data"
    }
   ],
   "source": [
    "plot_accuracies(history)"
   ]
  },
  {
   "cell_type": "code",
   "execution_count": 28,
   "id": "stainless-recall",
   "metadata": {},
   "outputs": [],
   "source": [
    "def prediction(image, model):\n",
    "    input_batch = image.unsqueeze(0).to(device) #Convert to a batch of 1\n",
    "    output_batch = model(input_batch).to(device) #Get predictions from model\n",
    "    _, preds  = torch.max(output_batch, dim=1) #Pick index with highest probability\n",
    "    return dataset.classes[preds[0].item()] #Retrieve the class label"
   ]
  },
  {
   "cell_type": "code",
   "execution_count": 46,
   "id": "nuclear-creator",
   "metadata": {},
   "outputs": [
    {
     "name": "stdout",
     "output_type": "stream",
     "text": [
      "['507', '590', '33', 198]\n",
      "['510', '565', '212', 360]\n",
      "['494', '559', '378', 520]\n",
      "['483', '552', '525', 663]\n",
      "['480', '543', '656', 780]\n",
      "['471', '537', '787', 905]\n",
      "['464', '530', '908', 1022]\n",
      "['458', '528', '1032', 1116]\n",
      "['453', '512', '1132', 1224]\n",
      "['457', '505', '1235', 1303]\n",
      "['437', '507', '1309', 1395]\n",
      "['441', '489', '1395', 1457]\n",
      "['428', '488', '1462', 1525]\n",
      "['361', '386', '1238', 1301]\n",
      "['344', '380', '1294', 1381]\n",
      "['583', '724', '1223', 1428]\n",
      "['656', '727', '641', 883]\n",
      "['632', '726', '965', 1251]\n",
      "['574', '670', '1370', 1526]\n"
     ]
    }
   ],
   "source": [
    "i = 1\n",
    "width = 150\n",
    "height = 150\n",
    "dim = (width, height)\n",
    "image = cv2.imread(\"C:\\\\Users\\\\stefa\\\\Desktop\\\\Demo image cropped\\\\the_image_cropped.jpg\")\n",
    "#image_cropped = cv2.resize(originalImage, (1920,1080), interpolation=cv2.INTER_AREA)\n",
    "f = open(\"C:\\\\Users\\\\stefa\\\\Desktop\\\\Demo image cropped\\\\Crop coordinates manually.txt\",'r')\n",
    "Lines = f.readlines()\n",
    "for line in Lines:\n",
    "    coordinates = line.split(\",\")\n",
    "    coordinates[3] = int(coordinates[3])\n",
    "    print(coordinates)\n",
    "    cropped = image[int(coordinates[0]):int(coordinates[1]), int(coordinates[2]):int(coordinates[3])]\n",
    "    # resize image to 150x150\n",
    "    resized = cv2.resize(cropped, dim, interpolation=cv2.INTER_AREA)\n",
    "    cv2.imwrite(f\"C:\\\\Users\\\\stefa\\\\CNRPark-Patches-150x150\\\\test\\\\test\\\\{i}.jpg\", resized)\n",
    "    i = i + 1"
   ]
  },
  {
   "cell_type": "code",
   "execution_count": 47,
   "id": "faced-makeup",
   "metadata": {},
   "outputs": [],
   "source": [
    "testset = ImageFolder(data_dir + '/test', transform=ToTensor())"
   ]
  },
  {
   "cell_type": "code",
   "execution_count": 54,
   "id": "grateful-junior",
   "metadata": {},
   "outputs": [
    {
     "name": "stdout",
     "output_type": "stream",
     "text": [
      "Label: ['busy', 'free'] Predicted: busy\n"
     ]
    },
    {
     "data": {
      "image/png": "[encoded data removed]",
      "text/plain": [
       "<Figure size 432x288 with 1 Axes>"
      ]
     },
     "metadata": {
      "needs_background": "light"
     },
     "output_type": "display_data"
    }
   ],
   "source": [
    "image, label = testset[1]\n",
    "plt.imshow(image.permute(1, 2, 0))\n",
    "print(f'Label: {dataset.classes} Predicted: {prediction(image, model)}')"
   ]
  },
  {
   "cell_type": "code",
   "execution_count": 55,
   "id": "foreign-cheat",
   "metadata": {},
   "outputs": [
    {
     "name": "stderr",
     "output_type": "stream",
     "text": [
      "100%|████████████████████████████████████████████████████████████████████████████████████| 1/1 [00:01<00:00,  1.64s/it]\n"
     ]
    },
    {
     "data": {
      "text/plain": [
       "{'val_loss': 0.4282774329185486, 'val_acc': 0.7599999904632568}"
      ]
     },
     "execution_count": 55,
     "metadata": {},
     "output_type": "execute_result"
    }
   ],
   "source": [
    "test_dl = DataLoader(testset, 128, num_workers=1, pin_memory=True)\n",
    "result = evaluate(model, test_dl)\n",
    "result"
   ]
  },
  {
   "cell_type": "code",
   "execution_count": 53,
   "id": "scenic-consciousness",
   "metadata": {},
   "outputs": [],
   "source": [
    "torch.save(model.state_dict(), 'parkinc-cnn.pth')"
   ]
  },
  {
   "cell_type": "code",
   "execution_count": null,
   "id": "nearby-patent",
   "metadata": {},
   "outputs": [],
   "source": [
    "#model = ParkincCnnModel()\n",
    "#model.to(device)\n",
    "#model.load_state_dict(torch.load('parkinc-cnn.pth'))"
   ]
  },
  {
   "cell_type": "code",
   "execution_count": null,
   "id": "acknowledged-leeds",
   "metadata": {},
   "outputs": [],
   "source": [
    "#test_dl = DataLoader(testset, 128, num_workers=1, pin_memory=True)\n",
    "#testset = ImageFolder(data_dir + '/test', transform=ToTensor())\n",
    "#result = evaluate(model, test_dl)\n",
    "#result"
   ]
  }
 ],
 "metadata": {
  "kernelspec": {
   "display_name": "Python 3",
   "language": "python",
   "name": "python3"
  },
  "language_info": {
   "codemirror_mode": {
    "name": "ipython",
    "version": 3
   },
   "file_extension": ".py",
   "mimetype": "text/x-python",
   "name": "python",
   "nbconvert_exporter": "python",
   "pygments_lexer": "ipython3",
   "version": "3.8.3"
  }
 },
 "nbformat": 4,
 "nbformat_minor": 5
}
